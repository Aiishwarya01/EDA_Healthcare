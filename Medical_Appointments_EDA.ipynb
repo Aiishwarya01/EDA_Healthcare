{
 "cells": [
  {
   "cell_type": "code",
   "execution_count": null,
   "id": "b2093421-4b0e-4f78-ba3c-d32e510b7fde",
   "metadata": {},
   "outputs": [],
   "source": [
    "import pandas as pd\n",
    "import numpy as np\n",
    "import datetime\n",
    "from time import strftime\n",
    "import matplotlib.pyplot as plt\n",
    "%matplotlib inline\n",
    "\n",
    "import seaborn as sns"
   ]
  },
  {
   "cell_type": "code",
   "execution_count": null,
   "id": "1b887a9e-b6e4-402a-ba20-efdf3ed4b309",
   "metadata": {},
   "outputs": [],
   "source": [
    "# Reading the dataset\n",
    "data = pd.read_csv('Data.csv')"
   ]
  },
  {
   "cell_type": "code",
   "execution_count": null,
   "id": "c99db9b0-96ae-4274-ba7f-3fa86f544a5e",
   "metadata": {},
   "outputs": [],
   "source": [
    "data"
   ]
  },
  {
   "cell_type": "code",
   "execution_count": null,
   "id": "1485a448-8ec9-4c22-b4c8-50b3ac0db6ef",
   "metadata": {},
   "outputs": [],
   "source": [
    "data.shape"
   ]
  },
  {
   "cell_type": "code",
   "execution_count": null,
   "id": "27ef751b-01b7-4251-a7f5-2fffd1089b9f",
   "metadata": {},
   "outputs": [],
   "source": [
    "data.info()"
   ]
  },
  {
   "cell_type": "code",
   "execution_count": null,
   "id": "d8aa4f03-ef39-4ac2-87c3-51f0aa1b0908",
   "metadata": {},
   "outputs": [],
   "source": [
    "#  modifying the data and time into standard form\n",
    "data['ScheduledDay'] = pd.to_datetime(data['ScheduledDay']).dt.date.astype('datetime64[ns]')\n",
    "data['AppointmentDay'] = pd.to_datetime(data['AppointmentDay']).dt.date.astype('datetime64[ns]')"
   ]
  },
  {
   "cell_type": "code",
   "execution_count": null,
   "id": "5c5df2fb-4d16-49d1-9195-ce8e84670e6b",
   "metadata": {},
   "outputs": [],
   "source": [
    "data.head()"
   ]
  },
  {
   "cell_type": "markdown",
   "id": "9d3daef7-80dd-4ba8-a141-966778cf3cec",
   "metadata": {},
   "source": [
    "Creating new columns for weekdays to identify appointment patterns throughout the week.\n",
    "For the schedule day and appoinment day, storing the weekdays into a variable."
   ]
  },
  {
   "cell_type": "code",
   "execution_count": null,
   "id": "1e232c62-f810-4f8a-b0c5-029fbf8f3b9b",
   "metadata": {},
   "outputs": [],
   "source": [
    "data['sch_weekday'] = data['ScheduledDay'].dt.dayofweek  # day of the week with Monday=0 ; Sunday=6"
   ]
  },
  {
   "cell_type": "code",
   "execution_count": null,
   "id": "4ea88932-dbbe-427d-9afa-f66e20fe68be",
   "metadata": {},
   "outputs": [],
   "source": [
    "data['app_weekday'] = data['AppointmentDay'].dt.dayofweek"
   ]
  },
  {
   "cell_type": "code",
   "execution_count": null,
   "id": "a7335015-6b07-4f99-9c7c-7544a7bfbddf",
   "metadata": {},
   "outputs": [],
   "source": [
    "data['sch_weekday'].value_counts()"
   ]
  },
  {
   "cell_type": "code",
   "execution_count": null,
   "id": "8c9ce883-9efd-43f7-87d7-60596dc89e18",
   "metadata": {},
   "outputs": [],
   "source": [
    "data['app_weekday'].value_counts()"
   ]
  },
  {
   "cell_type": "code",
   "execution_count": null,
   "id": "a8c2cc9d-fad6-4aab-9eb4-e11269b95974",
   "metadata": {},
   "outputs": [],
   "source": [
    "data.columns"
   ]
  },
  {
   "cell_type": "code",
   "execution_count": null,
   "id": "ee8539e4-e414-4a97-8526-33864a67d996",
   "metadata": {},
   "outputs": [],
   "source": [
    "#  Changing the names of columns with mistakes\n",
    "data = data.rename(columns={'Hipertension' : 'Hypertension' , 'Handcap' : 'Handicap' , 'SMS_received' : 'SMSReceived' , 'No-show' : 'NoShow' })"
   ]
  },
  {
   "cell_type": "code",
   "execution_count": null,
   "id": "f03e8d08-6ae7-45d2-b830-20f91d7441c1",
   "metadata": {},
   "outputs": [],
   "source": [
    "data.columns"
   ]
  },
  {
   "cell_type": "code",
   "execution_count": null,
   "id": "5540b5e8-bb22-4738-b14c-75496a08de72",
   "metadata": {},
   "outputs": [],
   "source": [
    "data.info()"
   ]
  },
  {
   "cell_type": "code",
   "execution_count": null,
   "id": "5febefa0-0da5-4717-a74f-16a957f838a0",
   "metadata": {},
   "outputs": [],
   "source": [
    "# dropping some columns which have no significance\n",
    "data.drop(['PatientId', 'AppointmentID', 'Neighbourhood'], axis=1, inplace=True)"
   ]
  },
  {
   "cell_type": "code",
   "execution_count": null,
   "id": "24b7c292-c3da-4396-b566-ff948955b789",
   "metadata": {},
   "outputs": [],
   "source": [
    "data"
   ]
  },
  {
   "cell_type": "code",
   "execution_count": null,
   "id": "f5739d38-84f5-4819-8506-d6a7a2b443c5",
   "metadata": {},
   "outputs": [],
   "source": [
    "data.describe()"
   ]
  },
  {
   "cell_type": "code",
   "execution_count": null,
   "id": "fcffe556-9932-486c-b06d-c437386b103a",
   "metadata": {},
   "outputs": [],
   "source": [
    "# Plot horizontal bar chart\n",
    "counts = data['NoShow'].value_counts()\n",
    "ax = counts.plot(kind='barh', figsize=(5,3))\n",
    "plt.xlabel(\"Count\", labelpad=14)\n",
    "plt.ylabel(\"Target Variables\",labelpad=14)\n",
    "plt.title(\"Count Of Targt Variables per Category\", y=1.02)\n",
    "\n",
    "# Add count labels to each ba\n",
    "for i, v in enumerate(counts):\n",
    "    ax.text(v+500, i, str(v), va='center')  # 500 is spacing from bar\n",
    "    \n",
    "plt.grid(axis='x', linestyle='--', linewidth=0.7, alpha=0.7)\n",
    "plt.show()"
   ]
  },
  {
   "cell_type": "code",
   "execution_count": null,
   "id": "bb0bfe88-b763-41c3-881c-416db9c52e3f",
   "metadata": {},
   "outputs": [],
   "source": [
    "# Calculating Percentage(%) of Appointments by Attendance Status:\n",
    "round(100*data['NoShow'].value_counts()/len(data['NoShow']), 2)"
   ]
  },
  {
   "cell_type": "code",
   "execution_count": null,
   "id": "dbdf5b97-cd2c-4935-9587-d25cd3b6fec3",
   "metadata": {},
   "outputs": [],
   "source": [
    "data['NoShow'].value_counts()"
   ]
  },
  {
   "cell_type": "code",
   "execution_count": null,
   "id": "356c69a4-524e-4a33-b7fe-c36a5d8fa608",
   "metadata": {},
   "outputs": [],
   "source": [
    "# Checking whether data contains missing values or not with a visualization\n",
    "\n",
    "# Calculate percentage of missing values\n",
    "missing = pd.DataFrame((data.isnull().sum()) * 100 / data.shape[0]).reset_index()\n",
    "missing.columns = ['Index', 'MissingPercentage']\n",
    "\n",
    "# Plot\n",
    "plt.figure(figsize=(14, 7))\n",
    "ax = sns.pointplot(x='Index', y='MissingPercentage', data=missing)\n",
    "plt.xticks(rotation=60, fontsize=10)\n",
    "plt.title(\"Percentage(%) of Missing Values\")\n",
    "plt.ylabel(\"PERCENTAGE(%)\")  # corrected typo from yLable\n",
    "plt.xlabel(\"Index\")\n",
    "plt.grid(True, linestyle='--', alpha=0.5)\n",
    "plt.show()\n",
    "\n",
    "#  A point chart where each point represents how much data is missing in a specific column \n",
    "# — helpful for quickly identifying which columns need data cleaning."
   ]
  },
  {
   "cell_type": "code",
   "execution_count": null,
   "id": "a0b769c2-1e7e-44a7-9708-c367dfb3e63c",
   "metadata": {},
   "outputs": [],
   "source": [
    "# Missing Data - Initial Intuition"
   ]
  },
  {
   "cell_type": "code",
   "execution_count": null,
   "id": "fd8dc131-6816-4263-83b5-c152e04e8a85",
   "metadata": {},
   "outputs": [],
   "source": []
  },
  {
   "cell_type": "markdown",
   "id": "c095e952-331e-48d0-9d60-79cf636e2bbd",
   "metadata": {},
   "source": [
    "# Data Cleaning\n",
    "Create a copy of base data for manipulation"
   ]
  },
  {
   "cell_type": "code",
   "execution_count": null,
   "id": "66467ed3-8773-4e1f-9476-fa3e32ad43ba",
   "metadata": {},
   "outputs": [],
   "source": [
    "new_data = data.copy()"
   ]
  },
  {
   "cell_type": "code",
   "execution_count": null,
   "id": "25d6def2-30f8-446b-8279-d0079afe6ec9",
   "metadata": {},
   "outputs": [],
   "source": [
    "new_data.info()"
   ]
  },
  {
   "cell_type": "markdown",
   "id": "49ab1338-d621-4711-acef-10263a78dc36",
   "metadata": {},
   "source": [
    "As we don't have any null vales , data clening is not required"
   ]
  },
  {
   "cell_type": "code",
   "execution_count": null,
   "id": "cefbda9d-7624-463c-8f4b-3de72e6b518c",
   "metadata": {},
   "outputs": [],
   "source": [
    "# get the max tenure(age)\n",
    "print(data['Age'].max()) #72"
   ]
  },
  {
   "cell_type": "code",
   "execution_count": null,
   "id": "7b50ae75-0146-4ed1-b06d-c9c6a91632c5",
   "metadata": {},
   "outputs": [],
   "source": [
    "# group the tenure(age) into bins of 20 years\n",
    "# Creating Age Group Labels\n",
    "labels =  [\"{0} - {1}\".format(i, i+20) for i in range(1, 118, 20)]\n",
    "\n",
    "# group the Age values into bins of 20 years \n",
    "data['Age_group'] = pd.cut(data.Age, range(1,130,20), right=False, labels=labels)"
   ]
  },
  {
   "cell_type": "code",
   "execution_count": null,
   "id": "d81b31b2-50e9-4edb-af5f-d9b030ebc9d3",
   "metadata": {},
   "outputs": [],
   "source": [
    "data.drop(['Age'], axis=1, inplace=True)"
   ]
  },
  {
   "cell_type": "markdown",
   "id": "acae5168-c6bf-480a-a8db-036e39328bc6",
   "metadata": {},
   "source": [
    "# Data Exploration"
   ]
  },
  {
   "cell_type": "code",
   "execution_count": null,
   "id": "f27adf82-f2d4-4c22-90c6-8cf47bc1e3ca",
   "metadata": {
    "scrolled": true
   },
   "outputs": [],
   "source": [
    "list(data.columns)"
   ]
  },
  {
   "cell_type": "code",
   "execution_count": null,
   "id": "4a9554e5-bedf-45df-ab9a-32d146f8c8c7",
   "metadata": {},
   "outputs": [],
   "source": [
    "# Examine the value counts for each predictor column and\n",
    "# Visualize how each feature relates to the target column (NoShow) using count plots\n",
    "\n",
    "for i, predictor in enumerate(data.drop(columns=['NoShow'])):\n",
    "    print('-'*10, predictor,'-'*10)\n",
    "    \n",
    "    # Print value counts of the current predictor\n",
    "    print(data[predictor].value_counts())\n",
    "    \n",
    "    # Plot countplot for each predictor with NoShow as hue\n",
    "    plt.figure(i)\n",
    "    sns.countplot(data=data, x=predictor, hue='NoShow')\n",
    "    # plt.title(f'Distribution of {predictor} by NoShow')\n",
    "    # plt.xticks(rotation=45)\n",
    "    # plt.tight_layout()\n",
    "    # plt.show()"
   ]
  },
  {
   "cell_type": "code",
   "execution_count": null,
   "id": "77dd7180-a364-4f69-9379-1b651d20d02d",
   "metadata": {},
   "outputs": [],
   "source": [
    "data['NoShow'] = np.where(data.NoShow == 'Yes',1,0)"
   ]
  },
  {
   "cell_type": "code",
   "execution_count": null,
   "id": "4a18266a-85cc-4dcb-982f-4c0232c359a4",
   "metadata": {},
   "outputs": [],
   "source": [
    "data.NoShow.value_counts()"
   ]
  },
  {
   "cell_type": "markdown",
   "id": "8aaa87ff-3282-43f4-a51e-1cd6d2e4aa62",
   "metadata": {},
   "source": [
    "Convert all Categorical Variables into Dummy Variables"
   ]
  },
  {
   "cell_type": "code",
   "execution_count": null,
   "id": "976f1b3a-2097-42ba-be5c-034312a1ba9e",
   "metadata": {},
   "outputs": [],
   "source": [
    "data_dummies = pd.get_dummies(data)\n",
    "# data_dummies = pd.get_dummies(data, drop_first=True)  # to avoid dummy varaible trap(multicllinearity)\n",
    "\n",
    "data_dummies.head()\n",
    "# new columns contain binary values (0 or 1)"
   ]
  },
  {
   "cell_type": "markdown",
   "id": "7375f84b-fa70-44ab-b269-457e3722155d",
   "metadata": {},
   "source": [
    "- Many machine learning models (like logistic regression, decision trees, etc.) require numeric input only.\n",
    "- This makes the data ready for model training."
   ]
  },
  {
   "cell_type": "markdown",
   "id": "15ba0b5a-0d91-4e74-bd64-2c808452eadf",
   "metadata": {},
   "source": [
    "Build a correlation with all predicators with 'NoShow'"
   ]
  },
  {
   "cell_type": "code",
   "execution_count": null,
   "id": "0e5ddad8-0fd8-4068-9da1-685c7e230e87",
   "metadata": {},
   "outputs": [],
   "source": [
    "plt.figure(figsize=(20, 8))\n",
    "data_dummies.corr()['NoShow'].sort_values(ascending=False).plot(kind='bar')\n",
    "plt.tight_layout()\n",
    "plt.show()"
   ]
  },
  {
   "cell_type": "code",
   "execution_count": null,
   "id": "c00de447-0d8e-43c4-9f17-2ed81f1b37d0",
   "metadata": {},
   "outputs": [],
   "source": [
    "# plt.figure(figsize=(20, 8))\n",
    "# data_dummies.corr()['NoShow'].sort_values(ascending=False).plot(kind='bar')\n",
    "\n",
    "# plt.title(\"Correlation of Features with NoShow\", fontsize=16)\n",
    "# plt.ylabel(\"Correlation\", fontsize=12)\n",
    "# plt.xticks(rotation=45)\n",
    "# plt.grid(True, linestyle='--', alpha=0.5)\n",
    "# plt.tight_layout()\n",
    "\n",
    "# plt.show()\n"
   ]
  },
  {
   "cell_type": "code",
   "execution_count": null,
   "id": "dfbb5528-efe6-4c7f-a52d-e01f47e2f2c0",
   "metadata": {},
   "outputs": [],
   "source": [
    "# plotting the same for Heat Map\n",
    "\n",
    "plt.figure(figsize=(12, 12))\n",
    "sns.heatmap(data_dummies.corr(), cmap=\"Paired\")\n",
    "plt.show()"
   ]
  },
  {
   "cell_type": "markdown",
   "id": "e63bdef2-5749-4c49-a599-784fee0a63d7",
   "metadata": {},
   "source": [
    "# Bivariate Analysis"
   ]
  },
  {
   "cell_type": "code",
   "execution_count": null,
   "id": "fd39c7f8-dd61-4050-8cc8-ded8cdd4ff1b",
   "metadata": {},
   "outputs": [],
   "source": [
    "new_df1_target0=data.loc[data[\"NoShow\"]==0]\n",
    "new_df1_target1=data.loc[data[\"NoShow\"]==1]"
   ]
  },
  {
   "cell_type": "code",
   "execution_count": null,
   "id": "1e698a22-efbf-4102-9793-31aa79c522a8",
   "metadata": {},
   "outputs": [],
   "source": [
    "# creating bar charts showing frequency of values\n",
    "def uniplot(df,col,title,hue =None):    # uniplot-custom plotting function \n",
    "    \n",
    "    sns.set_style('whitegrid')\n",
    "    sns.set_context('talk')  # Bigger fonts and styling for presentations\n",
    "    \n",
    "    plt.rcParams[\"axes.labelsize\"] =15\n",
    "    plt.rcParams['axes.titlesize'] = 18\n",
    "    plt.rcParams['axes.titlepad'] = 25\n",
    "    \n",
    "    temp = pd.Series(data = hue)\n",
    "    \n",
    "    fig, ax = plt.subplots()\n",
    "    width = len(df[col].unique()) + 7 + 4*len(temp.unique())\n",
    "    \n",
    "    fig.set_size_inches(width, 8)\n",
    "    plt.xticks(rotation=45)\n",
    "    plt.yscale('log')  # Converts y-axis to logarithmic scale\n",
    "    \n",
    "    # count plot\n",
    "    ax = sns.countplot(data = df, x= col, order=df[col].value_counts().index, hue = hue, palette='bright') \n",
    "\n",
    "    plt.title(title)\n",
    "    plt.show()"
   ]
  },
  {
   "cell_type": "code",
   "execution_count": null,
   "id": "7bc0f799-9a8a-460b-95f7-ef9c9da41a62",
   "metadata": {},
   "outputs": [],
   "source": [
    "uniplot(new_df1_target1,col='Hypertension',title='Distribution of Gender for NoShow Customers',hue='Gender')"
   ]
  },
  {
   "cell_type": "code",
   "execution_count": null,
   "id": "28e10c5a-55e2-41a8-a957-3f936848691f",
   "metadata": {},
   "outputs": [],
   "source": [
    "uniplot(new_df1_target0,col='Age_group',title='Distribution of Age for NoShow Customers',hue='Gender')"
   ]
  },
  {
   "cell_type": "markdown",
   "id": "41af9f4a-4613-4891-b640-145d9322f4f1",
   "metadata": {},
   "source": [
    "# Findings\n",
    "1. Female patients have taken more appointments then male patients\n",
    "2. Ratio of Nohow and Show is almost equal for age group except Age 0 and Age 1 with 80% show rate for each age group\n",
    "3. Each Neighbourhood have almost 80% show rate\n",
    "4. There are 99666 patients without Scholarship and out of them around 80% have come for the visit and out of the 21801 patients with Scholarship around 75% of them have come for the visit.\n",
    "5. there are around 88,726 patients without Hypertension and out of them around 78% have come for the visit and Out of the 21801 patients with Hypertension around 85% of them have come for the visit.\n",
    "6. there are around 102,584 patients without Diabetes and out of them around 80% have come for the visit and Out of the 7,943 patients with Diabetes around 83% of them have come for the visit.\n",
    "7. there are around 75,045 patients who have not received SMS and out of them around 84% have come for the visit and out of the 35,482 patients who have received SMS around 72% of them have come for the visit. \n",
    "8. there is no appointments on sunday and on saturday appointments are very less in comparision to other week days \n"
   ]
  },
  {
   "cell_type": "code",
   "execution_count": null,
   "id": "4f54ae47-d97c-4976-b977-1b217470fd72",
   "metadata": {},
   "outputs": [],
   "source": []
  }
 ],
 "metadata": {
  "kernelspec": {
   "display_name": "Python 3 (ipykernel)",
   "language": "python",
   "name": "python3"
  },
  "language_info": {
   "codemirror_mode": {
    "name": "ipython",
    "version": 3
   },
   "file_extension": ".py",
   "mimetype": "text/x-python",
   "name": "python",
   "nbconvert_exporter": "python",
   "pygments_lexer": "ipython3",
   "version": "3.13.5"
  }
 },
 "nbformat": 4,
 "nbformat_minor": 5
}
